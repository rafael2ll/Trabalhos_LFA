{
 "cells": [
  {
   "cell_type": "code",
   "execution_count": 1,
   "metadata": {
    "colab": {},
    "colab_type": "code",
    "id": "tHycZJFhEvuu"
   },
   "outputs": [],
   "source": [
    "import sys\n",
    "from subprocess import call"
   ]
  },
  {
   "cell_type": "code",
   "execution_count": 2,
   "metadata": {
    "colab": {
     "base_uri": "https://localhost:8080/",
     "height": 34
    },
    "colab_type": "code",
    "id": "h06MQhYBEvuy",
    "outputId": "9d5e00bd-f28a-4cbc-e422-8eeb98604fed"
   },
   "outputs": [
    {
     "name": "stdout",
     "output_type": "stream",
     "text": [
      "Digite uma expressao regular...*+0101*..010\n"
     ]
    },
    {
     "data": {
      "text/plain": [
       "0"
      ]
     },
     "execution_count": 2,
     "metadata": {},
     "output_type": "execute_result"
    }
   ],
   "source": [
    "expressao = input(\"Digite uma expressao regular\")\n",
    "if len(expressao) == 0 : \n",
    "    print('Automato vazio')\n",
    "    exit(0)\n",
    "call([\"./main\", expressao])"
   ]
  },
  {
   "cell_type": "code",
   "execution_count": 3,
   "metadata": {
    "colab": {
     "base_uri": "https://localhost:8080/",
     "height": 34
    },
    "colab_type": "code",
    "id": "KKaBfqmlEvu5",
    "outputId": "5575929b-99e2-42b9-dab9-25e525c3c036"
   },
   "outputs": [
    {
     "data": {
      "text/plain": [
       "['q19',\n",
       " 'q17',\n",
       " 'q16',\n",
       " 'q15',\n",
       " 'q14',\n",
       " 'q13',\n",
       " 'q12',\n",
       " 'q18',\n",
       " 'q11',\n",
       " 'q10',\n",
       " 'q9',\n",
       " 'q8',\n",
       " 'q7',\n",
       " 'q5',\n",
       " 'q3',\n",
       " 'q2',\n",
       " 'q1',\n",
       " 'q0',\n",
       " 'q4',\n",
       " 'q6']"
      ]
     },
     "execution_count": 3,
     "metadata": {},
     "output_type": "execute_result"
    }
   ],
   "source": [
    "file = open(\"automato\", \"r\")\n",
    "linhas = file.readlines()\n",
    "\n",
    "estados = linhas[0].split(\",\")\n",
    "estados[0] = estados[0][1:]\n",
    "aux = len(estados)-1\n",
    "estados[aux]= estados[aux][0: len(estados[aux])-2]\n",
    "estados\n"
   ]
  },
  {
   "cell_type": "markdown",
   "metadata": {
    "colab_type": "text",
    "id": "9kbZL7ieEvu4"
   },
   "source": [
    "Tomando o seguinte tipo de arquivo:<br>\n",
    "{Estados} <br>\n",
    "{Alfabeto} <br>\n",
    "{Estado Inicial} <br>\n",
    "{Estado Final} <br>\n",
    "Função de Transição: <br>\n",
    "Estado  Simbolo_Lido E-fecho\n",
    "\n",
    "\n",
    "\n"
   ]
  },
  {
   "cell_type": "code",
   "execution_count": 4,
   "metadata": {
    "colab": {
     "base_uri": "https://localhost:8080/",
     "height": 34
    },
    "colab_type": "code",
    "id": "gv6UxIe-EvvB",
    "outputId": "b6049fda-86e7-43e0-d627-8e504f4c88ff"
   },
   "outputs": [
    {
     "data": {
      "text/plain": [
       "'q6'"
      ]
     },
     "execution_count": 4,
     "metadata": {},
     "output_type": "execute_result"
    }
   ],
   "source": [
    "estado_ini = linhas[2][1: len(linhas[2])-2]\n",
    "estado_ini"
   ]
  },
  {
   "cell_type": "code",
   "execution_count": 5,
   "metadata": {
    "colab": {
     "base_uri": "https://localhost:8080/",
     "height": 34
    },
    "colab_type": "code",
    "id": "i7yf5kMMEvu-",
    "outputId": "1974b487-f855-4c10-d4c2-ba12d2bb2b3f"
   },
   "outputs": [
    {
     "data": {
      "text/plain": [
       "['0', '1', 'E']"
      ]
     },
     "execution_count": 5,
     "metadata": {},
     "output_type": "execute_result"
    }
   ],
   "source": [
    "alfabeto = linhas[1].split(',')\n",
    "alfabeto[0] = alfabeto[0][1:]\n",
    "aux = len(alfabeto)-1\n",
    "alfabeto[aux]= alfabeto[aux][0: len(alfabeto[aux])-2]\n",
    "alfabeto.append(\"E\")\n",
    "if '' in alfabeto: alfabeto.remove('')\n",
    "alfabeto"
   ]
  },
  {
   "cell_type": "code",
   "execution_count": 6,
   "metadata": {
    "colab": {
     "base_uri": "https://localhost:8080/",
     "height": 34
    },
    "colab_type": "code",
    "id": "EvrrTr8UEvvF",
    "outputId": "6fae12d2-0b04-4f84-c0db-b7c89fd20d47"
   },
   "outputs": [
    {
     "data": {
      "text/plain": [
       "'q19'"
      ]
     },
     "execution_count": 6,
     "metadata": {},
     "output_type": "execute_result"
    }
   ],
   "source": [
    "estado_final = linhas[3][1: len(linhas[3])-2]\n",
    "estado_final"
   ]
  },
  {
   "cell_type": "code",
   "execution_count": 7,
   "metadata": {
    "colab": {},
    "colab_type": "code",
    "id": "idrmhXp8EvvJ"
   },
   "outputs": [],
   "source": [
    "linhas = linhas[4:]"
   ]
  },
  {
   "cell_type": "markdown",
   "metadata": {
    "colab_type": "text",
    "id": "NTUjQIoFEvvM"
   },
   "source": [
    "### Matriz de transição\n",
    "Criada a partir da representação de cada conjunto de estados em uma lista de indíces de acordo com o vetor de estados\n",
    "<h4> Descrição do Processo</h4>\n",
    "O arquivo contem a matriz de transição de estados, onde cada linha rperesenta as transições de cada linha por cada símbolo do alfabeto e a palavra vazia (categorizando o e-fecho do estado)."
   ]
  },
  {
   "cell_type": "code",
   "execution_count": 8,
   "metadata": {
    "colab": {
     "base_uri": "https://localhost:8080/",
     "height": 768
    },
    "colab_type": "code",
    "id": "iZ9DSmpNEvvO",
    "outputId": "0aa40501-1c54-4984-8faa-5b77f7a0b5de"
   },
   "outputs": [
    {
     "name": "stdout",
     "output_type": "stream",
     "text": [
      "[[''], [''], ['q19']]\n",
      "[['q19'], ['q19'], ['q19']]\n",
      "\n",
      "\n",
      "[[''], [''], ['q19', 'q12', 'q17']]\n",
      "[['q19'], ['q19'], ['q19', 'q12', 'q17']]\n",
      "\n",
      "\n",
      "[['q17'], [''], ['q16']]\n",
      "[['q17'], ['q19'], ['q16']]\n",
      "\n",
      "\n",
      "[[''], [''], ['q16', 'q15']]\n",
      "[['q19'], ['q19'], ['q16', 'q15']]\n",
      "\n",
      "\n",
      "[[''], ['q15'], ['q14']]\n",
      "[['q19'], ['q15'], ['q14']]\n",
      "\n",
      "\n",
      "[[''], [''], ['q14', 'q13']]\n",
      "[['q19'], ['q19'], ['q14', 'q13']]\n",
      "\n",
      "\n",
      "[['q13'], [''], ['q12']]\n",
      "[['q13'], ['q19'], ['q12']]\n",
      "\n",
      "\n",
      "[[''], [''], ['q19', 'q12', 'q18']]\n",
      "[['q19'], ['q19'], ['q19', 'q12', 'q18']]\n",
      "\n",
      "\n",
      "[[''], [''], ['q18', 'q11']]\n",
      "[['q19'], ['q19'], ['q18', 'q11']]\n",
      "\n",
      "\n",
      "[[''], ['q11'], ['q10']]\n",
      "[['q19'], ['q11'], ['q10']]\n",
      "\n",
      "\n",
      "[[''], [''], ['q10', 'q9']]\n",
      "[['q19'], ['q19'], ['q10', 'q9']]\n",
      "\n",
      "\n",
      "[['q9'], [''], ['q8']]\n",
      "[['q9'], ['q19'], ['q8']]\n",
      "\n",
      "\n",
      "[[''], [''], ['q8', 'q7']]\n",
      "[['q19'], ['q19'], ['q8', 'q7']]\n",
      "\n",
      "\n",
      "[[''], [''], ['q7', 'q4', 'q5']]\n",
      "[['q19'], ['q19'], ['q7', 'q4', 'q5']]\n",
      "\n",
      "\n",
      "[[''], [''], ['q5', 'q3']]\n",
      "[['q19'], ['q19'], ['q5', 'q3']]\n",
      "\n",
      "\n",
      "[[''], ['q3'], ['q2']]\n",
      "[['q19'], ['q3'], ['q2']]\n",
      "\n",
      "\n",
      "[[''], [''], ['q5', 'q1']]\n",
      "[['q19'], ['q19'], ['q5', 'q1']]\n",
      "\n",
      "\n",
      "[['q1'], [''], ['q0']]\n",
      "[['q1'], ['q19'], ['q0']]\n",
      "\n",
      "\n",
      "[[''], [''], ['q2', 'q0', 'q4']]\n",
      "[['q19'], ['q19'], ['q2', 'q0', 'q4']]\n",
      "\n",
      "\n",
      "[[''], [''], ['q7', 'q4', 'q6']]\n",
      "[['q19'], ['q19'], ['q7', 'q4', 'q6']]\n",
      "\n",
      "\n"
     ]
    },
    {
     "data": {
      "text/plain": [
       "[[[], [], [0]],\n",
       " [[], [], [0, 6, 1]],\n",
       " [[1], [], [2]],\n",
       " [[], [], [2, 3]],\n",
       " [[], [3], [4]],\n",
       " [[], [], [4, 5]],\n",
       " [[5], [], [6]],\n",
       " [[], [], [0, 6, 7]],\n",
       " [[], [], [7, 8]],\n",
       " [[], [8], [9]],\n",
       " [[], [], [9, 10]],\n",
       " [[10], [], [11]],\n",
       " [[], [], [11, 12]],\n",
       " [[], [], [12, 18, 13]],\n",
       " [[], [], [13, 14]],\n",
       " [[], [14], [15]],\n",
       " [[], [], [13, 16]],\n",
       " [[16], [], [17]],\n",
       " [[], [], [15, 17, 18]],\n",
       " [[], [], [12, 18, 19]]]"
      ]
     },
     "execution_count": 8,
     "metadata": {},
     "output_type": "execute_result"
    }
   ],
   "source": [
    "matriz_transicoes = []\n",
    "for line in linhas:\n",
    "    l = line.split()[1:]\n",
    "    l = list(map(lambda n: n[1 : len(n)-1].split(','), l))\n",
    "    print(l)\n",
    "    \n",
    "    helper = []\n",
    "    vazios = []\n",
    "    \n",
    "    #camuflar estados vazios\n",
    "    for n in range(len(l)):\n",
    "      if l[n][0] == '':\n",
    "        l[n][0] = estados[0]\n",
    "        vazios.append(n)\n",
    "    print(l)\n",
    "    print('\\n')\n",
    "\n",
    "    #lendo transições para cada simbolo do alfabeto    \n",
    "    for n in range(len(alfabeto)):\n",
    "        helper.append([estados.index(x) for x in l[n]])\n",
    "    \n",
    "    # removendo camuflagem\n",
    "    for n in range(len(l)):\n",
    "        if n in vazios: helper[n] = []\n",
    "          \n",
    "    matriz_transicoes.append(helper)\n",
    "matriz_transicoes"
   ]
  },
  {
   "cell_type": "code",
   "execution_count": null,
   "metadata": {},
   "outputs": [],
   "source": []
  },
  {
   "cell_type": "code",
   "execution_count": 9,
   "metadata": {
    "colab": {},
    "colab_type": "code",
    "id": "FcIaxbNlEvvX"
   },
   "outputs": [],
   "source": [
    "def leia(v, estad):\n",
    "    #caso esteja no meio da palavra\n",
    "    if (len(v) > 1):\n",
    "        #se o simbolo pode ser lido, então:\n",
    "          p_estados = matriz_transicoes[estad][alfabeto.index(v[0])]\n",
    "          #print(\"lendo: {}, v: {}, estado: {}, possiveis: {}\".format(v[0], v[1:], estados[estad], list(map(lambda d: estados[d], p_estados))))\n",
    "          if p_estados.count(estado_final) > 0 : return True\n",
    "          \n",
    "          #percorra pelas transições possiveis\n",
    "          for p in p_estados:\n",
    "            b = leia(v[1:], p)\n",
    "            if b : return True\n",
    "          \n",
    "          #caso não obtenha resultado, tente trafegar pelas transiçoes vazias\n",
    "          p_estados = [x for x in matriz_transicoes[estad][alfabeto.index('E')]]\n",
    "          #print(\"lendo: {}, v: {}, estado: {}, possiveis vazios: {}\".format(v[0], v[1:], estados[estad], list(map(lambda d: estados[d], p_estados)))) \n",
    "          if estad in p_estados : p_estados.remove(estad)\n",
    "          for p in p_estados: \n",
    "              #não pulamos para o próximo símbolo, pois estamos passando por transições vazias\n",
    "              b = leia(v, p)\n",
    "              if b : return True\n",
    "        \n",
    "          return False\n",
    "        \n",
    "    #caso seja o último símbolo da palavra\n",
    "    elif (len(v) == 1): \n",
    "        p_estados = matriz_transicoes[estad][alfabeto.index(v[0])]\n",
    "        helper = [] \n",
    "          #verificar se podemos usar transições vazias para chegar a um estado final, lendo o ultimo simbolo*\n",
    "        for p in p_estados: \n",
    "            e_fecho(p, helper)\n",
    "        helper.extend(p_estados)\n",
    "        #print(\"lendo:{}, v: {}, estado: {}, possiveis: {}\".format(v[0], v[1:], estados[estad], list(map(lambda d: estados[d], helper))))\n",
    "        \n",
    "        if helper.count(estados.index(estado_final)) > 0 : return True\n",
    "        \n",
    "        p_estados = matriz_transicoes[estad][alfabeto.index('E')]\n",
    "        for p in p_estados:\n",
    "            if p != estad:\n",
    "                b = leia(v, p)\n",
    "                if b : return True\n",
    "        \n",
    "        return False\n",
    "    else: return False"
   ]
  },
  {
   "cell_type": "code",
   "execution_count": null,
   "metadata": {},
   "outputs": [],
   "source": [
    "def e_fecho(estado, lista):\n",
    "        visitados = []\n",
    "        e_fechoh(estado, lista, visitados)\n",
    "\n",
    "def e_fechoh(estado, lista, visitados):\n",
    "        p_estados = matriz_transicoes[estado][alfabeto.index('E')]\n",
    "        visitados.append(estado)\n",
    "          #verificar se podemos usar transições vazias para chegar a um estado final, lendo o ultimo simbolo*\n",
    "        for p in p_estados: \n",
    "            if(p not in lista and p not in visitados):\n",
    "                #lista.extend(matriz_transicoes[p][alfabeto.index('E')])\n",
    "                lista.append(p)\n",
    "                visitados.append(p)\n",
    "                e_fechoh(p, lista, visitados)\n"
   ]
  },
  {
   "cell_type": "markdown",
   "metadata": {
    "colab_type": "text",
    "id": "qfjBzohWpnKN"
   },
   "source": [
    "### * Como o e-fecho inclui o próprio estado atual, considera-se apenas o vetor de e-fechos"
   ]
  },
  {
   "cell_type": "code",
   "execution_count": null,
   "metadata": {
    "colab": {
     "base_uri": "https://localhost:8080/",
     "height": 136
    },
    "colab_type": "code",
    "id": "eY7WB5iSEvvZ",
    "outputId": "3df74a3c-3eb9-4de3-f2b4-96c56af4961a"
   },
   "outputs": [
    {
     "name": "stdout",
     "output_type": "stream",
     "text": [
      "Digite uma palavra: 01\n",
      "A palavra 01 eh aceita\n"
     ]
    }
   ],
   "source": [
    "while True:\n",
    "    palavra = input(\"Digite uma palavra: \")\n",
    "    pode_processar = True\n",
    "    for a in palavra:\n",
    "      if a not in alfabeto:\n",
    "        pode_processar = False\n",
    "        break\n",
    "\n",
    "    if pode_processar:\n",
    "      if(leia(palavra, estados.index(estado_ini))): print(\"A palavra {} eh aceita\".format(palavra))\n",
    "      else: print(\"A palavra {} não eh aceita\".format(palavra))\n",
    "    else: print(\"A palavra {} não pode ser processada\".format(palavra))"
   ]
  },
  {
   "cell_type": "code",
   "execution_count": null,
   "metadata": {},
   "outputs": [],
   "source": [
    "print(list(map(lambda a: estados[a], matriz_transicoes[estados.index('q10')][alfabeto.index('E')])))\n",
    "l = []\n",
    "e_fecho(estados.index('q10'), l)\n",
    "list(map(lambda a: estados[a], l))"
   ]
  },
  {
   "cell_type": "code",
   "execution_count": null,
   "metadata": {},
   "outputs": [],
   "source": []
  }
 ],
 "metadata": {
  "colab": {
   "collapsed_sections": [],
   "name": "T1_LFA.ipynb",
   "provenance": [],
   "toc_visible": true,
   "version": "0.3.2"
  },
  "kernelspec": {
   "display_name": "Python 3",
   "language": "python",
   "name": "python3"
  },
  "language_info": {
   "codemirror_mode": {
    "name": "ipython",
    "version": 3
   },
   "file_extension": ".py",
   "mimetype": "text/x-python",
   "name": "python",
   "nbconvert_exporter": "python",
   "pygments_lexer": "ipython3",
   "version": "3.6.4"
  }
 },
 "nbformat": 4,
 "nbformat_minor": 1
}
