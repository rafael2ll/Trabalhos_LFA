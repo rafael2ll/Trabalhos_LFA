{
  "nbformat": 4,
  "nbformat_minor": 0,
  "metadata": {
    "colab": {
      "name": "T1_LFA.ipynb",
      "version": "0.3.2",
      "provenance": [],
      "collapsed_sections": [],
      "toc_visible": true,
      "include_colab_link": true
    },
    "kernelspec": {
      "display_name": "Python 3",
      "language": "python",
      "name": "python3"
    }
  },
  "cells": [
    {
      "cell_type": "markdown",
      "metadata": {
        "id": "view-in-github",
        "colab_type": "text"
      },
      "source": [
        "[View in Colaboratory](https://colab.research.google.com/github/rafael2ll/lfa_t1/blob/master/T1_LFA.ipynb)"
      ]
    },
    {
      "metadata": {
        "id": "tHycZJFhEvuu",
        "colab_type": "code",
        "colab": {}
      },
      "cell_type": "code",
      "source": [
        "import sys\n",
        "import numpy as np"
      ],
      "execution_count": 0,
      "outputs": []
    },
    {
      "metadata": {
        "id": "h06MQhYBEvuy",
        "colab_type": "code",
        "colab": {
          "base_uri": "https://localhost:8080/",
          "height": 35
        },
        "outputId": "4e123558-c7e0-4173-b572-44b1cb9d4b63"
      },
      "cell_type": "code",
      "source": [
        "nome_arq = input(\"Digite o caminho do arquivo: \")"
      ],
      "execution_count": 80,
      "outputs": [
        {
          "output_type": "stream",
          "text": [
            "Digite o caminho do arquivo: automato2\n"
          ],
          "name": "stdout"
        }
      ]
    },
    {
      "metadata": {
        "id": "9kbZL7ieEvu4",
        "colab_type": "text"
      },
      "cell_type": "markdown",
      "source": [
        "Tomando o seguinte tipo de arquivo:<br>\n",
        "{Estados} <br>\n",
        "{Alfabeto} <br>\n",
        "{Estado Inicial} <br>\n",
        "{Estado Final} <br>\n",
        "Função de Transição"
      ]
    },
    {
      "metadata": {
        "id": "KKaBfqmlEvu5",
        "colab_type": "code",
        "colab": {
          "base_uri": "https://localhost:8080/",
          "height": 35
        },
        "outputId": "9c4b3b31-0fd5-48ed-f890-6be0e7771e62"
      },
      "cell_type": "code",
      "source": [
        "file = open(nome_arq, \"r\")\n",
        "linhas = file.readlines()\n",
        "\n",
        "estados = linhas[0].split(\",\")\n",
        "estados[0] = estados[0][1:]\n",
        "aux = len(estados)-1\n",
        "estados[aux]= estados[aux][0: len(estados[aux])-2]\n",
        "estados\n"
      ],
      "execution_count": 81,
      "outputs": [
        {
          "output_type": "execute_result",
          "data": {
            "text/plain": [
              "['q0', 'q1', 'q2', 'q3']"
            ]
          },
          "metadata": {
            "tags": []
          },
          "execution_count": 81
        }
      ]
    },
    {
      "metadata": {
        "id": "i7yf5kMMEvu-",
        "colab_type": "code",
        "colab": {}
      },
      "cell_type": "code",
      "source": [
        "alfabeto = linhas[1].split(',')\n",
        "alfabeto[0] = alfabeto[0][1:]\n",
        "aux = len(alfabeto)-1\n",
        "alfabeto[aux]= alfabeto[aux][0: len(alfabeto[aux])-2]\n",
        "alfabeto.append(\"E\")"
      ],
      "execution_count": 0,
      "outputs": []
    },
    {
      "metadata": {
        "id": "gv6UxIe-EvvB",
        "colab_type": "code",
        "colab": {
          "base_uri": "https://localhost:8080/",
          "height": 35
        },
        "outputId": "120b5230-db71-4ea9-993c-9b62ed59f48e"
      },
      "cell_type": "code",
      "source": [
        "estado_ini = linhas[2][1: len(linhas[2])-2]\n",
        "estado_ini"
      ],
      "execution_count": 83,
      "outputs": [
        {
          "output_type": "execute_result",
          "data": {
            "text/plain": [
              "'q0'"
            ]
          },
          "metadata": {
            "tags": []
          },
          "execution_count": 83
        }
      ]
    },
    {
      "metadata": {
        "id": "EvrrTr8UEvvF",
        "colab_type": "code",
        "colab": {
          "base_uri": "https://localhost:8080/",
          "height": 35
        },
        "outputId": "836750e8-51dc-465b-a186-9584f158b98f"
      },
      "cell_type": "code",
      "source": [
        "estado_final = linhas[3][1: len(linhas[2])-2]\n",
        "estado_final"
      ],
      "execution_count": 84,
      "outputs": [
        {
          "output_type": "execute_result",
          "data": {
            "text/plain": [
              "'q3'"
            ]
          },
          "metadata": {
            "tags": []
          },
          "execution_count": 84
        }
      ]
    },
    {
      "metadata": {
        "id": "idrmhXp8EvvJ",
        "colab_type": "code",
        "colab": {}
      },
      "cell_type": "code",
      "source": [
        "linhas = linhas[4:]"
      ],
      "execution_count": 0,
      "outputs": []
    },
    {
      "metadata": {
        "id": "NTUjQIoFEvvM",
        "colab_type": "text"
      },
      "cell_type": "markdown",
      "source": [
        "### Matriz de transição\n",
        "Criada a partir da representação de cada conjunto de estados em uma lista de indíces de acordo com o vetor de estados\n",
        "<h4> Descrição do Processo</h4>\n",
        "O arquivo contem a matriz de transição de estados, onde cada linha rperesenta as transições de cada linha por cada símbolo do alfabeto e a palavra vazia (categorizando o e-fecho do estado)."
      ]
    },
    {
      "metadata": {
        "id": "iZ9DSmpNEvvO",
        "colab_type": "code",
        "colab": {
          "base_uri": "https://localhost:8080/",
          "height": 107
        },
        "outputId": "64ddea76-4285-4b7b-86e8-1fac832a5bfe"
      },
      "cell_type": "code",
      "source": [
        "matriz_transicoes = []\n",
        "for line in linhas:\n",
        "    l = line.split()[1:]\n",
        "    l = list(map(lambda n: n[1 : len(n)-1].split(','), l))\n",
        "    print(l)\n",
        "    helper = []\n",
        "    for n in range(len(alfabeto)):\n",
        "        helper.append([estados.index(x) for x in l[n]])\n",
        "    \n",
        "    matriz_transicoes.append(helper)\n",
        "matriz_transicoes"
      ],
      "execution_count": 86,
      "outputs": [
        {
          "output_type": "stream",
          "text": [
            "[['q0'], ['q1'], ['q2']]\n",
            "[['q1'], ['q3'], ['q2']]\n",
            "[['q2'], ['q1'], ['q3']]\n",
            "[['q3'], ['q3'], ['q3']]\n"
          ],
          "name": "stdout"
        },
        {
          "output_type": "execute_result",
          "data": {
            "text/plain": [
              "[[[0], [1], [2]], [[1], [3], [2]], [[2], [1], [3]], [[3], [3], [3]]]"
            ]
          },
          "metadata": {
            "tags": []
          },
          "execution_count": 86
        }
      ]
    },
    {
      "metadata": {
        "id": "q_hfWGNcEvvR",
        "colab_type": "code",
        "colab": {}
      },
      "cell_type": "code",
      "source": [
        "# matriz_transicoes = np.array(matriz_transicoes);\n",
        "# matriz_transicoes = matriz_transicoes.reshape(len(estados), len(alfabeto)).tolist()\n",
        "# print(matriz_transicoes)"
      ],
      "execution_count": 0,
      "outputs": []
    },
    {
      "metadata": {
        "id": "FcIaxbNlEvvX",
        "colab_type": "code",
        "colab": {}
      },
      "cell_type": "code",
      "source": [
        "def leia(v, estad):\n",
        "    if (len(v) > 1):\n",
        "        p_estados = matriz_transicoes[estad][alfabeto.index(v[0])+1]\n",
        "        print(\"v: {}, estado: {}, possiveis: {}\".format(v, estados[estad], list(map(lambda d: estados[d], p_estados))))\n",
        "        if p_estados.count(estado_final) > 0 : return True\n",
        "        for p in p_estados:\n",
        "      #      print (\"Testando {} para sequenncia {}\".format(estados[p], v))\n",
        "            b = leia(v[1:], p)\n",
        "      #      print(b)\n",
        "            if b : return True\n",
        "    elif (len(v) == 1): return  (matriz_transicoes[estad][alfabeto.index(v[0])+1].count(estados.index(estado_final)) > 0)\n",
        "    else: return False"
      ],
      "execution_count": 0,
      "outputs": []
    },
    {
      "metadata": {
        "id": "eY7WB5iSEvvZ",
        "colab_type": "code",
        "colab": {
          "base_uri": "https://localhost:8080/",
          "height": 35
        },
        "outputId": "1d90fbe5-6ee8-45e4-8a17-fa687fd99406"
      },
      "cell_type": "code",
      "source": [
        "palavra = input(\"Digite uma palavra: \")"
      ],
      "execution_count": 89,
      "outputs": [
        {
          "output_type": "stream",
          "text": [
            "Digite uma palavra: abababaabba\n"
          ],
          "name": "stdout"
        }
      ]
    },
    {
      "metadata": {
        "id": "mc7iu2KxEvvg",
        "colab_type": "code",
        "colab": {
          "base_uri": "https://localhost:8080/",
          "height": 215
        },
        "outputId": "d3b86d60-96d4-4c3b-d95d-68527378b284"
      },
      "cell_type": "code",
      "source": [
        "pode_processar = True\n",
        "for a in palavra:\n",
        "  if a not in alfabeto:\n",
        "    pode_processar = False\n",
        "    break\n",
        "    \n",
        "if pode_processar:\n",
        "  if(leia(palavra, 0)): print(\"A palavra {} eh aceita\".format(palavra))\n",
        "  else: print(\"A palavra {} não eh aceita\".format(palavra))\n",
        "else: print(\"A palavra {} não eh aceita\".format(palavra))"
      ],
      "execution_count": 90,
      "outputs": [
        {
          "output_type": "stream",
          "text": [
            "v: abababaabba, estado: q0, possiveis: ['q1']\n",
            "v: bababaabba, estado: q1, possiveis: ['q2']\n",
            "v: ababaabba, estado: q2, possiveis: ['q1']\n",
            "v: babaabba, estado: q1, possiveis: ['q2']\n",
            "v: abaabba, estado: q2, possiveis: ['q1']\n",
            "v: baabba, estado: q1, possiveis: ['q2']\n",
            "v: aabba, estado: q2, possiveis: ['q1']\n",
            "v: abba, estado: q1, possiveis: ['q3']\n",
            "v: bba, estado: q3, possiveis: ['q3']\n",
            "v: ba, estado: q3, possiveis: ['q3']\n",
            "A palavra abababaabba eh aceita\n"
          ],
          "name": "stdout"
        }
      ]
    },
    {
      "metadata": {
        "id": "GWBfGEQuEvvn",
        "colab_type": "code",
        "colab": {}
      },
      "cell_type": "code",
      "source": [
        ""
      ],
      "execution_count": 0,
      "outputs": []
    },
    {
      "metadata": {
        "id": "WPrxmp_NEvvt",
        "colab_type": "code",
        "colab": {}
      },
      "cell_type": "code",
      "source": [
        ""
      ],
      "execution_count": 0,
      "outputs": []
    }
  ]
}