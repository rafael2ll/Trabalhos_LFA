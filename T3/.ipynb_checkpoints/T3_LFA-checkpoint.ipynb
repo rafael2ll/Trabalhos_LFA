{
 "cells": [
  {
   "cell_type": "code",
   "execution_count": 78,
   "metadata": {
    "colab": {},
    "colab_type": "code",
    "id": "tHycZJFhEvuu"
   },
   "outputs": [],
   "source": [
    "import sys\n",
    "import numpy as np"
   ]
  },
  {
   "cell_type": "code",
   "execution_count": 4,
   "metadata": {},
   "outputs": [
    {
     "name": "stdin",
     "output_type": "stream",
     "text": [
      "Digite o nome do arquivo: automato.txt\n"
     ]
    }
   ],
   "source": [
    "automato_nome = input('Digite o nome do arquivo:')"
   ]
  },
  {
   "cell_type": "markdown",
   "metadata": {
    "colab_type": "text",
    "id": "9kbZL7ieEvu4"
   },
   "source": [
    "Tomando o seguinte tipo de arquivo:<br>\n",
    "{Estados} <br>\n",
    "{Alfabeto} <br>\n",
    "{Simbolos da Pilha} <br>\n",
    "{Estado Inicial} <br>\n",
    "{Sibolo de Inicio de Pilha} <br>\n",
    "{Estado Final} <br>\n",
    "Função de Transição: <br>\n",
    "Estado  Simbolo_Lido Estado_Pilha Transicao\n",
    "\n",
    "\n",
    "\n"
   ]
  },
  {
   "cell_type": "code",
   "execution_count": 66,
   "metadata": {
    "colab": {
     "base_uri": "https://localhost:8080/",
     "height": 34
    },
    "colab_type": "code",
    "id": "KKaBfqmlEvu5",
    "outputId": "5575929b-99e2-42b9-dab9-25e525c3c036"
   },
   "outputs": [],
   "source": [
    "file = open(automato_nome, \"r\")\n",
    "linhas = file.readlines()"
   ]
  },
  {
   "cell_type": "markdown",
   "metadata": {},
   "source": [
    "### Lendo estados"
   ]
  },
  {
   "cell_type": "code",
   "execution_count": 67,
   "metadata": {},
   "outputs": [
    {
     "name": "stdout",
     "output_type": "stream",
     "text": [
      "['q0', 'q1', 'q2']\n"
     ]
    }
   ],
   "source": [
    "estados = linhas[0].split(\",\")\n",
    "estados[0] = estados[0][1:]\n",
    "aux = len(estados)-1\n",
    "estados[aux]= estados[aux][0:-2]\n",
    "print(estados)"
   ]
  },
  {
   "cell_type": "markdown",
   "metadata": {},
   "source": [
    "### Lendo Alfabeto"
   ]
  },
  {
   "cell_type": "code",
   "execution_count": 68,
   "metadata": {},
   "outputs": [
    {
     "data": {
      "text/plain": [
       "['0', '1', 'E']"
      ]
     },
     "execution_count": 68,
     "metadata": {},
     "output_type": "execute_result"
    }
   ],
   "source": [
    "alfabeto = linhas[1].split(',')\n",
    "alfabeto[0] = alfabeto[0][1:]\n",
    "aux = len(alfabeto)-1\n",
    "alfabeto[aux]= alfabeto[aux][0:-2]\n",
    "alfabeto.append(\"E\")\n",
    "if '' in alfabeto: alfabeto.remove('')\n",
    "alfabeto"
   ]
  },
  {
   "cell_type": "markdown",
   "metadata": {},
   "source": [
    "### Lendo Símbolos da Pilha"
   ]
  },
  {
   "cell_type": "code",
   "execution_count": 69,
   "metadata": {
    "colab": {
     "base_uri": "https://localhost:8080/",
     "height": 34
    },
    "colab_type": "code",
    "id": "gv6UxIe-EvvB",
    "outputId": "b6049fda-86e7-43e0-d627-8e504f4c88ff"
   },
   "outputs": [
    {
     "data": {
      "text/plain": [
       "['Z', '0', '1']"
      ]
     },
     "execution_count": 69,
     "metadata": {},
     "output_type": "execute_result"
    }
   ],
   "source": [
    "simbolos_pilha = linhas[2].split(',')\n",
    "simbolos_pilha[0] = simbolos_pilha[0][1:]\n",
    "aux = len(simbolos_pilha)-1\n",
    "simbolos_pilha[aux] = simbolos_pilha[aux][0:-2]\n",
    "simbolos_pilha"
   ]
  },
  {
   "cell_type": "markdown",
   "metadata": {
    "colab": {
     "base_uri": "https://localhost:8080/",
     "height": 34
    },
    "colab_type": "code",
    "id": "i7yf5kMMEvu-",
    "outputId": "1974b487-f855-4c10-d4c2-ba12d2bb2b3f"
   },
   "source": [
    "### Lendo Estado final, Estado inicial e Estado Inicial da Pilha"
   ]
  },
  {
   "cell_type": "code",
   "execution_count": 70,
   "metadata": {
    "colab": {
     "base_uri": "https://localhost:8080/",
     "height": 34
    },
    "colab_type": "code",
    "id": "EvrrTr8UEvvF",
    "outputId": "6fae12d2-0b04-4f84-c0db-b7c89fd20d47"
   },
   "outputs": [
    {
     "name": "stdout",
     "output_type": "stream",
     "text": [
      "Estado Inicial: q0\n",
      "Estados Finais: ['q2']\n",
      "Simbolo Inicial da Pilha: Z\n"
     ]
    }
   ],
   "source": [
    "estado_inicial = linhas[3][1:-2]\n",
    "simbolo_pilha_inicial = linhas[4][1:-2]\n",
    "estados_finais = linhas[5].split(\",\")\n",
    "estados_finais[0] = estados_finais[0][1:]\n",
    "estados_finais[-1]= estados_finais[0][0:-2]\n",
    "print('Estado Inicial: {0}\\nEstados Finais: {1}\\nSimbolo Inicial da Pilha: {2}'.format(estado_inicial,estados_finais,simbolo_pilha_inicial))"
   ]
  },
  {
   "cell_type": "markdown",
   "metadata": {
    "colab_type": "text",
    "id": "NTUjQIoFEvvM"
   },
   "source": [
    "### Matriz de transição\n",
    "Matriz de transição da seguinte forma: [estado][simbolo][pilha] -> retorna um conjunto de listas (transicao, att_pilha)<br>\n",
    "att_pilha = [codigo, simbolo] <br>\n",
    "Códigos:\n",
    "    * 0 = desempilha\n",
    "    * 1 = não modifica\n",
    "    * 2 = empilha simbolo"
   ]
  },
  {
   "cell_type": "code",
   "execution_count": 71,
   "metadata": {},
   "outputs": [],
   "source": [
    "#Descartando linhas ja lidas\n",
    "linhas  = linhas[7:]"
   ]
  },
  {
   "cell_type": "code",
   "execution_count": 98,
   "metadata": {
    "colab": {
     "base_uri": "https://localhost:8080/",
     "height": 768
    },
    "colab_type": "code",
    "id": "iZ9DSmpNEvvO",
    "outputId": "0aa40501-1c54-4984-8faa-5b77f7a0b5de"
   },
   "outputs": [
    {
     "name": "stdout",
     "output_type": "stream",
     "text": [
      "[q0 | 0 | Z | [[0, [[2, '0']]], [2, [[1]]]]]\n",
      "[q0 | 1 | Z | [[0, [[2, '0']]]]]\n",
      "[q0 | 0 | 0 | [[0, [[2, '0']]]]]\n",
      "[q0 | 0 | 1 | [[0, [[2, '0']]]]]\n",
      "[q0 | 1 | 0 | [[0, [[2, '1']]]]]\n",
      "[q0 | 1 | 1 | [[0, [[2, '1']]]]]\n",
      "[q0 | E | Z | [[1, [[1]]]]]\n",
      "[q0 | E | 0 | [[1, [[2, '0']]]]]\n",
      "[q0 | E | 0 | [[1, [[2, '1']]]]]\n",
      "[q1 | 0 | 0 | [[1, [[0]]]]]\n",
      "[q1 | 1 | 1 | [[1, [[0]]]]]\n",
      "[q1 | E | Z | [[2, [[1]]]]]\n"
     ]
    },
    {
     "data": {
      "text/plain": [
       "[]"
      ]
     },
     "execution_count": 98,
     "metadata": {},
     "output_type": "execute_result"
    }
   ],
   "source": [
    "\n",
    "matriz_transicoes = []\n",
    "for line in linhas:\n",
    "    l = line.split()\n",
    "    est = l[0];\n",
    "    sim = l[1]\n",
    "    pil = l[2]\n",
    "    l[3] = l[3][1:-1]\n",
    "    trans = []\n",
    "    #Definindo as tuplas de transicao\n",
    "    for t in l[3].split(';'):\n",
    "        t_ = t[1:-1].split(',')\n",
    "        t_pilha = []\n",
    "        if 'E' == t_[1]:\n",
    "            t_pilha.append([0])\n",
    "        elif simbolo_pilha_inicial == t_[1]:\n",
    "            t_pilha.append([1])\n",
    "        else:\n",
    "            t_pilha.append([2, t_[1][0]])\n",
    "            \n",
    "        trans.append([estados.index(t_[0]), t_pilha])\n",
    "    print(\"[{0} | {1} | {2} | {3}]\".format(est, sim, pil, trans))\n",
    "    \n",
    "    \n",
    "    if matriz_transicoes[estados.index(est)]\n",
    "matriz_transicoes"
   ]
  },
  {
   "cell_type": "code",
   "execution_count": null,
   "metadata": {},
   "outputs": [],
   "source": []
  },
  {
   "cell_type": "code",
   "execution_count": 9,
   "metadata": {
    "colab": {},
    "colab_type": "code",
    "id": "FcIaxbNlEvvX"
   },
   "outputs": [],
   "source": [
    "def leia(v, estad):\n",
    "    #caso esteja no meio da palavra\n",
    "    if (len(v) > 1):\n",
    "        #se o simbolo pode ser lido, então:\n",
    "          p_estados = matriz_transicoes[estad][alfabeto.index(v[0])]\n",
    "          #print(\"lendo: {}, v: {}, estado: {}, possiveis: {}\".format(v[0], v[1:], estados[estad], list(map(lambda d: estados[d], p_estados))))\n",
    "          if p_estados.count(estado_final) > 0 : return True\n",
    "          \n",
    "          #percorra pelas transições possiveis\n",
    "          for p in p_estados:\n",
    "            b = leia(v[1:], p)\n",
    "            if b : return True\n",
    "          \n",
    "          #caso não obtenha resultado, tente trafegar pelas transiçoes vazias\n",
    "          p_estados = [x for x in matriz_transicoes[estad][alfabeto.index('E')]]\n",
    "          #print(\"lendo: {}, v: {}, estado: {}, possiveis vazios: {}\".format(v[0], v[1:], estados[estad], list(map(lambda d: estados[d], p_estados)))) \n",
    "          if estad in p_estados : p_estados.remove(estad)\n",
    "          for p in p_estados: \n",
    "              #não pulamos para o próximo símbolo, pois estamos passando por transições vazias\n",
    "              b = leia(v, p)\n",
    "              if b : return True\n",
    "        \n",
    "          return False\n",
    "        \n",
    "    #caso seja o último símbolo da palavra\n",
    "    elif (len(v) == 1): \n",
    "        p_estados = matriz_transicoes[estad][alfabeto.index(v[0])]\n",
    "        helper = [] \n",
    "          #verificar se podemos usar transições vazias para chegar a um estado final, lendo o ultimo simbolo*\n",
    "        for p in p_estados: \n",
    "            e_fecho(p, helper)\n",
    "        helper.extend(p_estados)\n",
    "        #print(\"lendo:{}, v: {}, estado: {}, possiveis: {}\".format(v[0], v[1:], estados[estad], list(map(lambda d: estados[d], helper))))\n",
    "        \n",
    "        if helper.count(estados.index(estado_final)) > 0 : return True\n",
    "        \n",
    "        p_estados = matriz_transicoes[estad][alfabeto.index('E')]\n",
    "        for p in p_estados:\n",
    "            if p != estad:\n",
    "                b = leia(v, p)\n",
    "                if b : return True\n",
    "        \n",
    "        return False\n",
    "    else: return False"
   ]
  },
  {
   "cell_type": "code",
   "execution_count": null,
   "metadata": {},
   "outputs": [],
   "source": [
    "def e_fecho(estado, lista):\n",
    "        visitados = []\n",
    "        e_fechoh(estado, lista, visitados)\n",
    "\n",
    "def e_fechoh(estado, lista, visitados):\n",
    "        p_estados = matriz_transicoes[estado][alfabeto.index('E')]\n",
    "        visitados.append(estado)\n",
    "          #verificar se podemos usar transições vazias para chegar a um estado final, lendo o ultimo simbolo*\n",
    "        for p in p_estados: \n",
    "            if(p not in lista and p not in visitados):\n",
    "                #lista.extend(matriz_transicoes[p][alfabeto.index('E')])\n",
    "                lista.append(p)\n",
    "                visitados.append(p)\n",
    "                e_fechoh(p, lista, visitados)\n"
   ]
  },
  {
   "cell_type": "markdown",
   "metadata": {
    "colab_type": "text",
    "id": "qfjBzohWpnKN"
   },
   "source": [
    "### * Como o e-fecho inclui o próprio estado atual, considera-se apenas o vetor de e-fechos"
   ]
  },
  {
   "cell_type": "code",
   "execution_count": null,
   "metadata": {
    "colab": {
     "base_uri": "https://localhost:8080/",
     "height": 136
    },
    "colab_type": "code",
    "id": "eY7WB5iSEvvZ",
    "outputId": "3df74a3c-3eb9-4de3-f2b4-96c56af4961a"
   },
   "outputs": [
    {
     "name": "stdout",
     "output_type": "stream",
     "text": [
      "Digite uma palavra: 11\n",
      "A palavra 11 não eh aceita\n",
      "Digite uma palavra: 011\n",
      "A palavra 011 não eh aceita\n",
      "Digite uma palavra: 01\n",
      "A palavra 01 eh aceita\n",
      "Digite uma palavra: 011\n",
      "A palavra 011 não eh aceita\n",
      "Digite uma palavra: 0011\n",
      "A palavra 0011 não eh aceita\n",
      "Digite uma palavra: 01\n",
      "A palavra 01 eh aceita\n",
      "Digite uma palavra: 110101101001010\n",
      "A palavra 110101101001010 eh aceita\n",
      "Digite uma palavra: E\n",
      "A palavra E não eh aceita\n"
     ]
    }
   ],
   "source": [
    "while True:\n",
    "    palavra = input(\"Digite uma palavra: \")\n",
    "    pode_processar = True\n",
    "    for a in palavra:\n",
    "      if a not in alfabeto:\n",
    "        pode_processar = False\n",
    "        break\n",
    "\n",
    "    if pode_processar:\n",
    "      if(leia(palavra, estados.index(estado_ini))): print(\"A palavra {} eh aceita\".format(palavra))\n",
    "      else: print(\"A palavra {} não eh aceita\".format(palavra))\n",
    "    else: print(\"A palavra {} não pode ser processada\".format(palavra))"
   ]
  },
  {
   "cell_type": "code",
   "execution_count": null,
   "metadata": {},
   "outputs": [],
   "source": [
    "print(list(map(lambda a: estados[a], matriz_transicoes[estados.index('q10')][alfabeto.index('E')])))\n",
    "l = []\n",
    "e_fecho(estados.index('q10'), l)\n",
    "list(map(lambda a: estados[a], l))"
   ]
  },
  {
   "cell_type": "code",
   "execution_count": null,
   "metadata": {},
   "outputs": [],
   "source": []
  }
 ],
 "metadata": {
  "colab": {
   "collapsed_sections": [],
   "name": "T1_LFA.ipynb",
   "provenance": [],
   "toc_visible": true,
   "version": "0.3.2"
  },
  "kernelspec": {
   "display_name": "Python 3",
   "language": "python",
   "name": "python3"
  },
  "language_info": {
   "codemirror_mode": {
    "name": "ipython",
    "version": 3
   },
   "file_extension": ".py",
   "mimetype": "text/x-python",
   "name": "python",
   "nbconvert_exporter": "python",
   "pygments_lexer": "ipython3",
   "version": "3.6.7"
  }
 },
 "nbformat": 4,
 "nbformat_minor": 2
}
