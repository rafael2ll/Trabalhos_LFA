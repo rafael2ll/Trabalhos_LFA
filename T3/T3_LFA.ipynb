{
 "cells": [
  {
   "cell_type": "code",
   "execution_count": 1,
   "metadata": {
    "colab": {},
    "colab_type": "code",
    "id": "tHycZJFhEvuu"
   },
   "outputs": [],
   "source": [
    "import sys\n",
    "import numpy as np"
   ]
  },
  {
   "cell_type": "code",
   "execution_count": 2,
   "metadata": {},
   "outputs": [
    {
     "name": "stdin",
     "output_type": "stream",
     "text": [
      "Digite o nome do arquivo: automato.txt\n"
     ]
    }
   ],
   "source": [
    "automato_nome = input('Digite o nome do arquivo:')"
   ]
  },
  {
   "cell_type": "markdown",
   "metadata": {
    "colab_type": "text",
    "id": "9kbZL7ieEvu4"
   },
   "source": [
    "Tomando o seguinte tipo de arquivo:<br>\n",
    "{Estados} <br>\n",
    "{Alfabeto} <br>\n",
    "{Simbolos da Pilha} <br>\n",
    "{Estado Inicial} <br>\n",
    "{Sibolo de Inicio de Pilha} <br>\n",
    "{Estado Final} <br>\n",
    "Função de Transição: <br>\n",
    "Estado  Simbolo_Lido Estado_Pilha Transicao\n",
    "\n",
    "\n",
    "\n"
   ]
  },
  {
   "cell_type": "code",
   "execution_count": 3,
   "metadata": {
    "colab": {
     "base_uri": "https://localhost:8080/",
     "height": 34
    },
    "colab_type": "code",
    "id": "KKaBfqmlEvu5",
    "outputId": "5575929b-99e2-42b9-dab9-25e525c3c036"
   },
   "outputs": [],
   "source": [
    "file = open(automato_nome, \"r\")\n",
    "linhas = file.readlines()"
   ]
  },
  {
   "cell_type": "markdown",
   "metadata": {},
   "source": [
    "### Lendo estados"
   ]
  },
  {
   "cell_type": "code",
   "execution_count": 4,
   "metadata": {},
   "outputs": [
    {
     "name": "stdout",
     "output_type": "stream",
     "text": [
      "['q0', 'q1', 'q2']\n"
     ]
    }
   ],
   "source": [
    "estados = linhas[0].split(\",\")\n",
    "estados[0] = estados[0][1:]\n",
    "aux = len(estados)-1\n",
    "estados[aux]= estados[aux][0:-2]\n",
    "print(estados)"
   ]
  },
  {
   "cell_type": "markdown",
   "metadata": {},
   "source": [
    "### Lendo Alfabeto"
   ]
  },
  {
   "cell_type": "code",
   "execution_count": 5,
   "metadata": {},
   "outputs": [
    {
     "data": {
      "text/plain": [
       "['0', '1', 'E']"
      ]
     },
     "execution_count": 5,
     "metadata": {},
     "output_type": "execute_result"
    }
   ],
   "source": [
    "alfabeto = linhas[1].split(',')\n",
    "alfabeto[0] = alfabeto[0][1:]\n",
    "aux = len(alfabeto)-1\n",
    "alfabeto[aux]= alfabeto[aux][0:-2]\n",
    "alfabeto.append(\"E\")\n",
    "if '' in alfabeto: alfabeto.remove('')\n",
    "alfabeto"
   ]
  },
  {
   "cell_type": "markdown",
   "metadata": {},
   "source": [
    "### Lendo Símbolos da Pilha"
   ]
  },
  {
   "cell_type": "code",
   "execution_count": 6,
   "metadata": {
    "colab": {
     "base_uri": "https://localhost:8080/",
     "height": 34
    },
    "colab_type": "code",
    "id": "gv6UxIe-EvvB",
    "outputId": "b6049fda-86e7-43e0-d627-8e504f4c88ff"
   },
   "outputs": [
    {
     "data": {
      "text/plain": [
       "['0', '1', 'Z']"
      ]
     },
     "execution_count": 6,
     "metadata": {},
     "output_type": "execute_result"
    }
   ],
   "source": [
    "simbolos_pilha = linhas[2].split(',')\n",
    "simbolos_pilha[0] = simbolos_pilha[0][1:]\n",
    "aux = len(simbolos_pilha)-1\n",
    "simbolos_pilha[aux] = simbolos_pilha[aux][0:-2]\n",
    "simbolos_pilha"
   ]
  },
  {
   "cell_type": "markdown",
   "metadata": {
    "colab": {
     "base_uri": "https://localhost:8080/",
     "height": 34
    },
    "colab_type": "code",
    "id": "i7yf5kMMEvu-",
    "outputId": "1974b487-f855-4c10-d4c2-ba12d2bb2b3f"
   },
   "source": [
    "### Lendo Estado final, Estado inicial e Estado Inicial da Pilha"
   ]
  },
  {
   "cell_type": "code",
   "execution_count": 7,
   "metadata": {
    "colab": {
     "base_uri": "https://localhost:8080/",
     "height": 34
    },
    "colab_type": "code",
    "id": "EvrrTr8UEvvF",
    "outputId": "6fae12d2-0b04-4f84-c0db-b7c89fd20d47"
   },
   "outputs": [
    {
     "name": "stdout",
     "output_type": "stream",
     "text": [
      "Estado Inicial: q0\n",
      "Estados Finais: ['q2']\n",
      "Simbolo Inicial da Pilha: Z\n"
     ]
    }
   ],
   "source": [
    "estado_inicial = linhas[3][1:-2]\n",
    "simbolo_pilha_inicial = linhas[4][1:-2]\n",
    "estados_finais = []\n",
    "estados_finais = linhas[5].split(\",\")\n",
    "estados_finais[0] = estados_finais[0][1:]\n",
    "estados_finais[-1]= estados_finais[0][0:-2]\n",
    "if '' in estados_finais: estados_finais.remove('')\n",
    "    \n",
    "print('Estado Inicial: {0}\\nEstados Finais: {1}\\nSimbolo Inicial da Pilha: {2}'.format(estado_inicial,estados_finais,simbolo_pilha_inicial))"
   ]
  },
  {
   "cell_type": "markdown",
   "metadata": {
    "colab_type": "text",
    "id": "NTUjQIoFEvvM"
   },
   "source": [
    "### Matriz de transição\n",
    "Matriz de transição da seguinte forma: [estado][simbolo][pilha] -> retorna um conjunto de listas (transicao, att_pilha)<br>\n",
    "att_pilha = [codigo, simbolo] <br>\n",
    "Códigos:\n",
    "    * 0 = desempilha\n",
    "    * 1 = não modifica\n",
    "    * 2 = empilha simbolo"
   ]
  },
  {
   "cell_type": "code",
   "execution_count": 8,
   "metadata": {},
   "outputs": [],
   "source": [
    "#Descartando linhas ja lidas\n",
    "linhas  = linhas[7:]"
   ]
  },
  {
   "cell_type": "code",
   "execution_count": 9,
   "metadata": {
    "colab": {
     "base_uri": "https://localhost:8080/",
     "height": 768
    },
    "colab_type": "code",
    "id": "iZ9DSmpNEvvO",
    "outputId": "0aa40501-1c54-4984-8faa-5b77f7a0b5de"
   },
   "outputs": [
    {
     "name": "stdout",
     "output_type": "stream",
     "text": [
      "[q0 | 0 | Z | [[0, [2, 0]]]]\n",
      "[q0 | 1 | Z | [[0, [2, 1]]]]\n",
      "[q0 | 0 | 0 | [[0, [2, 0]]]]\n",
      "[q0 | 0 | 1 | [[0, [2, 0]]]]\n",
      "[q0 | 1 | 0 | [[0, [2, 1]]]]\n",
      "[q0 | 1 | 1 | [[0, [2, 1]]]]\n",
      "[q0 | E | Z | [[1, [1]]]]\n",
      "[q0 | E | 0 | [[1, [1]]]]\n",
      "[q0 | E | 1 | [[1, [1]]]]\n",
      "[q1 | 0 | 0 | [[1, [0]]]]\n",
      "[q1 | 1 | 1 | [[1, [0]]]]\n",
      "[q1 | E | Z | [[2, [1]]]]\n"
     ]
    },
    {
     "data": {
      "text/plain": [
       "[[0, [2, 0]]]"
      ]
     },
     "execution_count": 9,
     "metadata": {},
     "output_type": "execute_result"
    }
   ],
   "source": [
    "\n",
    "matriz_transicoes = []\n",
    "for i in range(len(estados)):\n",
    "    matriz_transicoes.insert(i, [])\n",
    "    for j in range(len(alfabeto)):\n",
    "        matriz_transicoes[i].insert(j, [])\n",
    "        for k in range(len(simbolos_pilha)):\n",
    "            matriz_transicoes[i][j].insert(k, [])\n",
    "            \n",
    "for line in linhas:\n",
    "    l = line.split()\n",
    "    est = l[0];\n",
    "    sim = l[1]\n",
    "    pil = l[2]\n",
    "    l[3] = l[3][1:-1]\n",
    "    trans = []\n",
    "    #Definindo as tuplas de transicao\n",
    "    for t in l[3].split(';'):\n",
    "        t_ = t[1:-1].split(',')\n",
    "        t_pilha = None\n",
    "        if 'E' == t_[1]:\n",
    "            t_pilha = ([0])\n",
    "        elif t_[1] in simbolos_pilha:\n",
    "            t_pilha = ([1])\n",
    "        else:\n",
    "            t_pilha= ([2, simbolos_pilha.index(t_[1][0])])\n",
    "            \n",
    "        trans.append([estados.index(t_[0]), t_pilha])\n",
    "    print(\"[{0} | {1} | {2} | {3}]\".format(est, sim, pil, trans))\n",
    "    \n",
    "    matriz_transicoes[estados.index(est)][alfabeto.index(sim)][simbolos_pilha.index(pil)] = trans\n",
    "matriz_transicoes[0][0][0]"
   ]
  },
  {
   "cell_type": "markdown",
   "metadata": {},
   "source": [
    "### Conversão caso o autômato for de pilha vazia"
   ]
  },
  {
   "cell_type": "code",
   "execution_count": 10,
   "metadata": {},
   "outputs": [],
   "source": [
    "if(len(estados_finais) == 0):\n",
    "    #Adicionando um novo simbolo para representar a pilha vazia\n",
    "    simbolos_pilha.append('X')\n",
    "    \n",
    "    #Adicionando um novo estado inicial e um estado final\n",
    "    estados_finais.append('pf')\n",
    "    estados.append('p0')\n",
    "    estados.append('pf')\n",
    "    \n",
    "    #Adicionando transicao inicial na matriz de transições\n",
    "    ini_pos = estados.index('p0')\n",
    "    fim_pos = estados.index('pf')\n",
    "    pos_pilha = simbolos_pilha.index('X')\n",
    "    matriz_transicoes.insert(ini_pos, [])\n",
    "    #Adicionando nova linha na matriz de transições\n",
    "    matriz_transicoes.insert(ini_pos, [[[] for j in range(len(simbolos_pilha))] for i in range(len(alfabeto))])\n",
    "    \n",
    "    trans_inicial = [[estados.index(estado_inicial), [2, simbolos_pilha.index(simbolo_pilha_inicial)]]]\n",
    "    matriz_transicoes[ini_pos][alfabeto.index('E')][pos_pilha] = trans_inicial\n",
    "    matriz_transicoes.insert(fim_pos, [[[] for j in range(len(simbolos_pilha))] for i in range(len(alfabeto))])\n",
    "    \n",
    "    for i in range(len(estados)-2):\n",
    "        matriz_transicoes[i][alfabeto.index('E')].insert(simbolos_pilha.index('X'), [])\n",
    "        matriz_transicoes[i][alfabeto.index('E')][simbolos_pilha.index('X')] =[[estados.index(estados_finais[0]), [1]]]\n",
    "    \n",
    "    for i in range(len(estados)-2):\n",
    "        for j in range(len(alfabeto)):\n",
    "            if j !=  alfabeto.index('E'):\n",
    "               matriz_transicoes[i][j].append([[]*len(simbolos_pilha)])\n",
    "            \n",
    "    estado_inicial = 'p0'\n",
    "    simbolo_pilha_inicial = 'X'"
   ]
  },
  {
   "cell_type": "code",
   "execution_count": null,
   "metadata": {
    "colab": {},
    "colab_type": "code",
    "id": "FcIaxbNlEvvX"
   },
   "outputs": [],
   "source": [
    "def leia(v, estad, pilha):\n",
    "    if len(v) > 0:\n",
    "        simb_pos = alfabeto.index(v[0])\n",
    "        pil_pos = pilha.pop()\n",
    "        p_estados = matriz_transicoes[estad][simb_pos][pil_pos] # retorna: lista de [estado, [op_pilha, simb_pilha]]\n",
    "        \n",
    "#        print(\"::::::Normais:::::::\\nPalavra: {2}\\nSimbolo: {3}, Sim Pilha:{4}\\nEstados: {0}\\nPilha: {1}\\n------------------------\".format(p_estados, pilha, v, v[0], pil_pos))\n",
    "        for tupla in p_estados: # tupla tem o formato [estado, [op_pilha, pilha_simbolo]]\n",
    "#            print('Testando estado:{0}\\tSimbolo:{1}'.format(tupla,pil_pos))\n",
    "            if tupla == [] :\n",
    "                continue\n",
    "            n_est = tupla[0]\n",
    "            op_pilha = tupla[1]\n",
    "            pilha_ = pilha.copy()\n",
    "            if op_pilha[0] == 1:\n",
    "                pilha_.append(pil_pos)\n",
    "            elif op_pilha[0] == 2:\n",
    "                pilha_.append(pil_pos)\n",
    "                pilha_.append(op_pilha[1])\n",
    "            \n",
    "            #Com a operação ja feita na pilha, siga\n",
    "            b = leia(v[1:], n_est, pilha_)\n",
    "            if b: return True\n",
    "            \n",
    "        \n",
    "#       print(':::::::vazios::::::')\n",
    "        p_estados_vazios = matriz_transicoes[estad][alfabeto.index('E')][pil_pos]\n",
    "#        print(\"Palavra: {2}\\nSimbolo: {3}, Sim Pilha:{4}\\nEstados: {0}\\nPilha: {1}\\n--------------------------\".format(p_estados_vazios, pilha, v, v[0], pil_pos))\n",
    "     \n",
    "     \n",
    "        for tupla in p_estados_vazios: # tupla tem o formato [estado, [op_pilha, pilha_simbolo]]\n",
    "#            print('Testando estado:{0}\\tSimbolo:{1}'.format(tupla,pil_pos))\n",
    "            if tupla == [] :\n",
    "                continue\n",
    "            n_est = tupla[0]\n",
    "            pilha_ = pilha.copy()\n",
    "            op_pilha = tupla[1]\n",
    "            if op_pilha[0] == 1:\n",
    "                pilha_.append(pil_pos)\n",
    "            elif op_pilha[0] == 2:\n",
    "                pilha_.append(pil_pos)\n",
    "                pilha_.append(op_pilha[1])\n",
    "            \n",
    "            #Com a operação ja feita na pilha, siga\n",
    "            b = leia(v, n_est, pilha_)\n",
    "            if b: return True\n",
    "\n",
    "        return False\n",
    "    else:\n",
    "        pilha_ = pilha.copy()\n",
    "        fecho = e_fecho(estad, pilha_)\n",
    "#        print(fecho)\n",
    "        if any(ef in list(map(lambda a: estados.index(a),estados_finais)) for ef in fecho):\n",
    "#            print('::::::::::::Final:::::::::')\n",
    "            return True\n",
    "        else: return False"
   ]
  },
  {
   "cell_type": "code",
   "execution_count": null,
   "metadata": {},
   "outputs": [],
   "source": [
    "def e_fecho(estado, pilha):\n",
    "        visitados = []\n",
    "        lista = []\n",
    "        e_fechoh(estado, lista, pilha, visitados)\n",
    "        return visitados\n",
    "\n",
    "def e_fechoh(estado, lista, pilha, visitados):\n",
    "        pil = pilha.pop()\n",
    "        p_estados = matriz_transicoes[estado][alfabeto.index('E')][pil]\n",
    "#        print('E-fecho:{0}'.format(p_estados))\n",
    "        visitados.append(estado)\n",
    "          #verificar se podemos usar transições vazias para chegar a um estado final, lendo o ultimo simbolo*\n",
    "        for tupla in p_estados:\n",
    " #           print('Calculando e-fecho:{0}\\tSimbolo:{1}'.format(tupla,pil))\n",
    "            if tupla == [] :\n",
    "                continue\n",
    "            n_est = tupla[0]\n",
    "            pilha_ = pilha.copy()\n",
    "            op_pilha = tupla[1]\n",
    "            if op_pilha[0] == 1:\n",
    "                pilha_.append(pil)\n",
    "            elif op_pilha[0] == 2:\n",
    "                pilha_.append(pil)\n",
    "                pilha_.append(op_pilha[1])\n",
    "            if  n_est not in lista:\n",
    "                #lista.extend(matriz_transicoes[p][alfabeto.index('E')])\n",
    "                lista.append(estado)\n",
    "                visitados.append(n_est)\n",
    "                if len(pilha_) > 0:\n",
    "                    e_fechoh(n_est, lista, pilha_, visitados)"
   ]
  },
  {
   "cell_type": "markdown",
   "metadata": {
    "colab_type": "text",
    "id": "qfjBzohWpnKN"
   },
   "source": [
    "### * Como o e-fecho inclui o próprio estado atual, considera-se apenas o vetor de e-fechos"
   ]
  },
  {
   "cell_type": "code",
   "execution_count": null,
   "metadata": {
    "colab": {
     "base_uri": "https://localhost:8080/",
     "height": 136
    },
    "colab_type": "code",
    "id": "eY7WB5iSEvvZ",
    "outputId": "3df74a3c-3eb9-4de3-f2b4-96c56af4961a"
   },
   "outputs": [
    {
     "name": "stdin",
     "output_type": "stream",
     "text": [
      "Digite uma palavra:  110011\n"
     ]
    },
    {
     "name": "stdout",
     "output_type": "stream",
     "text": [
      "[0, 1, 1]\n",
      "[1]\n",
      "[1, 2, 2]\n",
      "A palavra 110011 eh aceita\n"
     ]
    }
   ],
   "source": [
    "while True:\n",
    "    palavra = input(\"Digite uma palavra: \")\n",
    "    pode_processar = True\n",
    "    for a in palavra:\n",
    "      if a not in alfabeto:\n",
    "        pode_processar = False\n",
    "        break\n",
    "\n",
    "    if pode_processar:\n",
    "        pilha = [simbolos_pilha.index(simbolo_pilha_inicial)]\n",
    "        if(leia(palavra, estados.index(estado_inicial), pilha)): print(\"A palavra {} eh aceita\".format(palavra))\n",
    "        else: print(\"A palavra {} não eh aceita\".format(palavra))\n",
    "    else: print(\"A palavra {} não pode ser processada\".format(palavra))"
   ]
  },
  {
   "cell_type": "code",
   "execution_count": null,
   "metadata": {},
   "outputs": [],
   "source": [
    "# print(matriz_transicoes[estados.index('q1')][alfabeto.index('E')][simbolos_pilha.index('X')])\n",
    "# print(simbolos_pilha)\n",
    "# print(matriz_transicoes[1][alfabeto.index('E')][2])"
   ]
  }
 ],
 "metadata": {
  "colab": {
   "collapsed_sections": [],
   "name": "T1_LFA.ipynb",
   "provenance": [],
   "toc_visible": true,
   "version": "0.3.2"
  },
  "kernelspec": {
   "display_name": "Python 3",
   "language": "python",
   "name": "python3"
  },
  "language_info": {
   "codemirror_mode": {
    "name": "ipython",
    "version": 3
   },
   "file_extension": ".py",
   "mimetype": "text/x-python",
   "name": "python",
   "nbconvert_exporter": "python",
   "pygments_lexer": "ipython3",
   "version": "3.6.7"
  }
 },
 "nbformat": 4,
 "nbformat_minor": 2
}
